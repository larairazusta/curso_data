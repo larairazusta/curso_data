{
  "nbformat": 4,
  "nbformat_minor": 0,
  "metadata": {
    "colab": {
      "provenance": [],
      "authorship_tag": "ABX9TyOKzuRCAPB9wSxZenGMU+u7",
      "include_colab_link": true
    },
    "kernelspec": {
      "name": "python3",
      "display_name": "Python 3"
    },
    "language_info": {
      "name": "python"
    }
  },
  "cells": [
    {
      "cell_type": "markdown",
      "metadata": {
        "id": "view-in-github",
        "colab_type": "text"
      },
      "source": [
        "<a href=\"https://colab.research.google.com/github/larairazusta/curso_data/blob/main/tareas.ipynb\" target=\"_parent\"><img src=\"https://colab.research.google.com/assets/colab-badge.svg\" alt=\"Open In Colab\"/></a>"
      ]
    },
    {
      "cell_type": "markdown",
      "source": [
        "# [Primera clase](https://)"
      ],
      "metadata": {
        "id": "vVVj41dHKBmc"
      }
    },
    {
      "cell_type": "markdown",
      "source": [
        "Ejercicio 1: Variables y tipos de datos\n",
        "Escribe un programa que solicite al usuario su nombre y edad, y luego imprima un mensaje que diga \"Hola, [nombre]. Tienes [edad] años.\""
      ],
      "metadata": {
        "id": "kOAROWIBDlEu"
      }
    },
    {
      "cell_type": "code",
      "source": [
        "nombres=input(\"Ingrese su nombre:\")\n",
        "edad=input(\"Ingrese su edad:\")\n",
        "print(\"Hola,\",nombres,\". Tienes\",edad,\"años.\")"
      ],
      "metadata": {
        "colab": {
          "base_uri": "https://localhost:8080/"
        },
        "id": "YOlMjHr4DrDC",
        "outputId": "e897ef26-bc5b-4806-e67f-081e58931404"
      },
      "execution_count": null,
      "outputs": [
        {
          "output_type": "stream",
          "name": "stdout",
          "text": [
            "Ingrese su nombre:Lara\n",
            "Ingrese su edad:20\n",
            "Hola, Lara . Tienes 20 años.\n"
          ]
        }
      ]
    },
    {
      "cell_type": "markdown",
      "source": [
        "Ejercicio 2: Condicionales simples\n",
        "Escribe un programa que pida al usuario ingresar un número. Luego, verifica si ese número es positivo o negativo, e imprime un mensaje correspondiente"
      ],
      "metadata": {
        "id": "70l7PGHjHBcl"
      }
    },
    {
      "cell_type": "code",
      "source": [
        "número_usuario=input(\"Ingrese un número:\")\n",
        "número=float(número_usuario)\n",
        "if número<0:\n",
        "  print(\"El número ingresado es un número negativo.\")\n",
        "else:\n",
        "  print(\"El número ingresado es un número positivo.\")"
      ],
      "metadata": {
        "colab": {
          "base_uri": "https://localhost:8080/"
        },
        "id": "65CH800PHLnG",
        "outputId": "20c68376-5c25-4612-c48a-409127f654db"
      },
      "execution_count": null,
      "outputs": [
        {
          "output_type": "stream",
          "name": "stdout",
          "text": [
            "Ingrese un número:-3\n",
            "El número ingresado es un número negativo.\n"
          ]
        }
      ]
    },
    {
      "cell_type": "code",
      "source": [
        "número_usuario=input(\"Ingrese un número:\")\n",
        "número=int(número_usuario)\n",
        "if número<0:\n",
        "  print(\"El número ingresado es un número negativo.\")\n",
        "else:\n",
        "  print(\"El número ingresado es un número positivo.\")"
      ],
      "metadata": {
        "colab": {
          "base_uri": "https://localhost:8080/"
        },
        "outputId": "d86424a3-284f-43e9-fa8d-a9f65bb8c98d",
        "id": "ldymcD8NLHjI"
      },
      "execution_count": null,
      "outputs": [
        {
          "output_type": "stream",
          "name": "stdout",
          "text": [
            "Ingrese un número:5\n",
            "El número ingresado es un número positivo.\n"
          ]
        }
      ]
    },
    {
      "cell_type": "markdown",
      "source": [
        "Ejercicio 3: Condicionales con if y else\n",
        "Crea un programa que solicite al usuario ingresar dos números. Luego, compara los dos números e imprime un mensaje que indique cuál de los dos números es mayor."
      ],
      "metadata": {
        "id": "MDno73YQLw28"
      }
    },
    {
      "cell_type": "code",
      "source": [
        "número1usuario=input(\"Ingrese un número:\")\n",
        "número2usuario=input(\"Ingrese otro número:\")\n",
        "número1=float(número1usuario)\n",
        "número2=float(número2usuario)\n",
        "if número1>número2:\n",
        "  print(número1usuario,\"es mayor que\",número2usuario,\".\")\n",
        "else:\n",
        "    print(número2usuario, \"es mayor que\",número1usuario,\".\")"
      ],
      "metadata": {
        "colab": {
          "base_uri": "https://localhost:8080/"
        },
        "id": "0kmlg_HQMBbY",
        "outputId": "1d8388d1-85ff-4eb9-b0e6-90267b591401"
      },
      "execution_count": null,
      "outputs": [
        {
          "output_type": "stream",
          "name": "stdout",
          "text": [
            "Ingrese un número:150\n",
            "Ingrese otro número:100\n",
            "150 es mayor que 100 .\n"
          ]
        }
      ]
    },
    {
      "cell_type": "markdown",
      "source": [
        "Ejercicio 4: Condicionales anidados (investigar)\n",
        "Escribe un programa que solicite al usuario ingresar su calificación en un examen (un número entre 0 y 100). Luego, determina si la calificación es A (90-100), B (80-89), C (70-79), D (60-69) o F (menos de 60) e imprime la calificación correspondiente"
      ],
      "metadata": {
        "id": "Scanda_tOCcc"
      }
    },
    {
      "cell_type": "code",
      "source": [
        "calificación=input(\"Ingrese su calificación:\")\n",
        "número=int(calificación)\n",
        "if número>100:\n",
        "  print(\"La calificación no puede ser mayor a 100.\")\n",
        "elif número>89:\n",
        "  print(\"Tu nota es A.\")\n",
        "elif número>79:\n",
        "  print(\"Tu nota es B.\")\n",
        "elif número>69:\n",
        "  print(\"Tu nota es C.\")\n",
        "elif número>59:\n",
        "  print(\"Tu nota es D.\")\n",
        "else:\n",
        "  print (\"Tu nota es F.\")"
      ],
      "metadata": {
        "colab": {
          "base_uri": "https://localhost:8080/"
        },
        "id": "jsC6N7qaOGsX",
        "outputId": "dfffb784-75df-4052-ccca-7ecc94cbc940"
      },
      "execution_count": null,
      "outputs": [
        {
          "output_type": "stream",
          "name": "stdout",
          "text": [
            "Ingrese su calificación:40\n",
            "Tu nota es F.\n"
          ]
        }
      ]
    },
    {
      "cell_type": "markdown",
      "source": [
        "# Segunda clase"
      ],
      "metadata": {
        "id": "Mbhhuxr6KOt_"
      }
    },
    {
      "cell_type": "markdown",
      "source": [
        "Vectores (Listas): a. Crea una lista con todas tus materias cursadas e iterala con un ciclo for imprimiendo un mensaje en pantalla.\n",
        "\n"
      ],
      "metadata": {
        "id": "utHwingFKXXv"
      }
    },
    {
      "cell_type": "code",
      "source": [
        "materias = [\"antropología\" , \"comunicación\", \"escritura\"]\n",
        "for materia in materias:\n",
        "  print (materia, \"es una de las materias que cursaste.\")\n",
        "\n"
      ],
      "metadata": {
        "colab": {
          "base_uri": "https://localhost:8080/"
        },
        "id": "FNIPuiIiKmB7",
        "outputId": "00cd9787-9987-41f1-cfed-3d37b7d1471d"
      },
      "execution_count": null,
      "outputs": [
        {
          "output_type": "stream",
          "name": "stdout",
          "text": [
            "antropología es una de las materias que cursaste.\n",
            "comunicación es una de las materias que cursaste.\n",
            "escritura es una de las materias que cursaste.\n"
          ]
        }
      ]
    },
    {
      "cell_type": "markdown",
      "source": [
        "1) Suma de elementos: Crea una lista de números y escribe un programa que calcule la suma de todos los elementos en la lista. 3) Crea un programa que calcule el promedio de todos los elementos de un vector"
      ],
      "metadata": {
        "id": "J1egH3ZVra9b"
      }
    },
    {
      "cell_type": "code",
      "source": [
        "suma = 0\n",
        "notas= [7,7, 10]\n",
        "for nota in notas:\n",
        "  suma+= nota\n",
        "print (\"El promedio es\", suma/len(notas))"
      ],
      "metadata": {
        "colab": {
          "base_uri": "https://localhost:8080/"
        },
        "id": "Ve2rOa6Mrb0V",
        "outputId": "2e2271f1-77b3-4446-a2b3-58323a037c4f"
      },
      "execution_count": null,
      "outputs": [
        {
          "output_type": "stream",
          "name": "stdout",
          "text": [
            "El promedio es 8.0\n"
          ]
        }
      ]
    },
    {
      "cell_type": "markdown",
      "source": [
        "2) Buscar el máximo: Escribe un programa que encuentre el valor máximo en una lista de números."
      ],
      "metadata": {
        "id": "Cs_fHv6vt4SR"
      }
    },
    {
      "cell_type": "code",
      "source": [
        "lista_números = []\n",
        "for número in range (5):\n",
        "  número= int(input (\"Escriba un número: \"))\n",
        "  lista_números.append(número)\n",
        "def mayor(lista_números):\n",
        "  max= lista_números[0]:\n",
        "  for número in lista_números:\n",
        "    if número > max:\n",
        "      max = número\n",
        "print(\"El número más grande es:, max\")"
      ],
      "metadata": {
        "id": "TANTLREht7CU"
      },
      "execution_count": null,
      "outputs": []
    },
    {
      "cell_type": "markdown",
      "source": [
        "**Diccionarios**:\n",
        "1) Registro de estudiantes: Crea un diccionario en el que las claves sean los nombres de los estudiantes y los valores sean sus calificaciones. Luego, escribe un programa que permita al usuario buscar la calificación de un estudiante por su nombre.\n"
      ],
      "metadata": {
        "id": "ceoD3mVszmmq"
      }
    },
    {
      "cell_type": "code",
      "source": [
        "registro= {\n",
        "    \"aye\": 10,\n",
        "    \"lara\": 8,\n",
        "    \"juli\": 9}\n",
        "alumno= str(input(\"Introduzca el nombre del estudiante cuya calificación desee conocer: \"))\n",
        "print (\"La calificación del alumno es\", registro[alumno])"
      ],
      "metadata": {
        "colab": {
          "base_uri": "https://localhost:8080/"
        },
        "id": "TTjOUPwkzr2n",
        "outputId": "a3586cd7-946b-45ec-cd05-9a018489be4d"
      },
      "execution_count": null,
      "outputs": [
        {
          "output_type": "stream",
          "name": "stdout",
          "text": [
            "Introduzca el nombre del estudiante cuya calificación desee conocer: lara\n",
            "La calificación del alumno es 8\n"
          ]
        }
      ]
    },
    {
      "cell_type": "markdown",
      "source": [
        "2) Crea un diccionario que contenga tu nombre, edad, hobbies, y toda la información que consideres relevante para presentarte en el curso\n"
      ],
      "metadata": {
        "id": "iomKyArc7FZq"
      }
    },
    {
      "cell_type": "code",
      "source": [
        "presentación= {\n",
        "    \"nombre\":\"Lara\",\n",
        "    \"apodos\":[\"lari\",\"laru\",\"lareee\",\"larita\"],\n",
        "    \"edad\": 20,\n",
        "    \"hobbies\":[\"cantar\",\"actuar\", \"ver pelis\", \"cocinar\"]\n",
        "}\n",
        "print(presentación[\"apodos\"])"
      ],
      "metadata": {
        "colab": {
          "base_uri": "https://localhost:8080/"
        },
        "id": "FSuEVZ2C7IGf",
        "outputId": "d0e3541e-3014-4e15-a3bf-840c8a5ae9cc"
      },
      "execution_count": null,
      "outputs": [
        {
          "output_type": "stream",
          "name": "stdout",
          "text": [
            "['lari', 'laru', 'lareee', 'larita']\n"
          ]
        }
      ]
    },
    {
      "cell_type": "code",
      "source": [
        "presentación= {\n",
        "    \"nombre\":\"Lara\",\n",
        "    \"apodos\":[\"lari\",\"laru\",\"lareee\",\"larita\"],\n",
        "    \"edad\": 20,\n",
        "    \"hobbies\":[\"cantar\",\"actuar\", \"ver pelis\", \"cocinar\"]\n",
        "}\n",
        "for apodo in presentación[\"apodos\"]:\n",
        "  print(\"Uno de los apodos de Lara es \", apodo)"
      ],
      "metadata": {
        "colab": {
          "base_uri": "https://localhost:8080/"
        },
        "id": "9ZRjWDoH9L0A",
        "outputId": "17738652-9d8a-4b65-c69c-8ac17f964261"
      },
      "execution_count": null,
      "outputs": [
        {
          "output_type": "stream",
          "name": "stdout",
          "text": [
            "Uno de los apodos de Lara es  lari\n",
            "Uno de los apodos de Lara es  laru\n",
            "Uno de los apodos de Lara es  lareee\n",
            "Uno de los apodos de Lara es  larita\n"
          ]
        }
      ]
    },
    {
      "cell_type": "markdown",
      "source": [
        "3) Contar elementos: Crea un diccionario que represente una bolsa con diferentes tipos de frutas y la cantidad de cada tipo de fruta en la bolsa. Escribe un programa que cuente cuántas frutas hay en total."
      ],
      "metadata": {
        "id": "oaEXAvMq9xl4"
      }
    },
    {
      "cell_type": "code",
      "source": [
        "bolsa_de_frutas={\n",
        "    \"manzanas\": 5,\n",
        "    \"bananas\": 7,\n",
        "    \"duraznos\": 3,\n",
        "    \"kiwis\": 4,\n",
        "    \"sandía\": 1\n",
        "}\n",
        "suma = 0\n",
        "for fruta in bolsa_de_frutas:\n",
        "  suma= suma + bolsa_de_frutas[fruta]\n",
        "print(\"En la bolsa hay \",suma, \"frutas.\")"
      ],
      "metadata": {
        "colab": {
          "base_uri": "https://localhost:8080/"
        },
        "id": "ZTdc8LLb90Qt",
        "outputId": "26d6891e-1788-4c32-8b1e-661c7264a0b8"
      },
      "execution_count": null,
      "outputs": [
        {
          "output_type": "stream",
          "name": "stdout",
          "text": [
            "En la bolsa hay  20 frutas.\n"
          ]
        }
      ]
    },
    {
      "cell_type": "markdown",
      "source": [
        "# Clase 3 y 4"
      ],
      "metadata": {
        "id": "-HpMDNyy0ahY"
      }
    },
    {
      "cell_type": "markdown",
      "source": [
        "Realizar un análisis gráfico del siguiente dataset:\n",
        "\n",
        "https://www.kaggle.com/datasets/fedesoriano/stroke-prediction-dataset\n",
        "\n",
        "¿Qué tipo de variables identifica? Clasifiquelas\n",
        "Qué hipotesis puede plantear de este set de datos respecto a la variable stroke\n",
        "¿Que tipos de gráficos utilizaría? ¿Por qué?\n",
        "¿Que medidas de tendencia central y medidas de orden hay en cada columna? Interprete cada una de ellas\n",
        "¿Hay outliers? ¿A qué se deben?"
      ],
      "metadata": {
        "id": "77a0M3Ou0ewL"
      }
    },
    {
      "cell_type": "markdown",
      "source": [
        "# Clase 5"
      ],
      "metadata": {
        "id": "K-WPDlRW0gu8"
      }
    },
    {
      "cell_type": "markdown",
      "source": [],
      "metadata": {
        "id": "iZg790SS0jEV"
      }
    }
  ]
}